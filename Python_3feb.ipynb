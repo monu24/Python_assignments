{
 "cells": [
  {
   "cell_type": "markdown",
   "id": "d32682f9-8e87-4ce0-a9fa-a87b4f5c3609",
   "metadata": {},
   "source": [
    "QUESTION 1\n"
   ]
  },
  {
   "cell_type": "markdown",
   "id": "0cf41092-c09e-4925-a0f6-a04545900411",
   "metadata": {},
   "source": [
    "def is used to create a function\n"
   ]
  },
  {
   "cell_type": "code",
   "execution_count": 1,
   "id": "1e09fb96-d295-4510-be80-bdc060168f01",
   "metadata": {},
   "outputs": [
    {
     "name": "stdout",
     "output_type": "stream",
     "text": [
      "1\n",
      "3\n",
      "5\n",
      "7\n",
      "9\n",
      "11\n",
      "13\n",
      "15\n",
      "17\n",
      "19\n",
      "21\n",
      "23\n"
     ]
    }
   ],
   "source": [
    "def odd_list():\n",
    "    for i in range(1,25,2):\n",
    "        print(i)\n",
    "        \n",
    "odd_list()\n",
    "    "
   ]
  },
  {
   "cell_type": "markdown",
   "id": "3389c4a4-ce8c-4621-827d-5c5a437cb3a5",
   "metadata": {},
   "source": [
    "QUESTION 2"
   ]
  },
  {
   "cell_type": "markdown",
   "id": "445c9260-328d-49a7-9994-28da16d7a554",
   "metadata": {},
   "source": [
    "args are used in python to take variable number of arguments where as kwargs are used to take \n",
    "variable number of key valued pair of arguments"
   ]
  },
  {
   "cell_type": "code",
   "execution_count": 3,
   "id": "b418f298-3825-470a-9def-bebf794a9160",
   "metadata": {},
   "outputs": [
    {
     "name": "stdout",
     "output_type": "stream",
     "text": [
      "1\n",
      "2\n",
      "3\n",
      "Monu\n",
      "[4, 5, 6]\n"
     ]
    }
   ],
   "source": [
    "def test1(*args):\n",
    "    for i in args:\n",
    "        print(i)\n",
    "        \n",
    "test1(1,2,3,\"Monu\",[4,5,6])"
   ]
  },
  {
   "cell_type": "code",
   "execution_count": 16,
   "id": "334d965d-12eb-46c1-a02d-1e10801183a3",
   "metadata": {},
   "outputs": [
    {
     "name": "stdout",
     "output_type": "stream",
     "text": [
      "('val1', '1')\n",
      "('val2', '2')\n",
      "('val3', '3')\n",
      "('strval', 'Monu')\n",
      "('l', [4, 5, 6])\n"
     ]
    }
   ],
   "source": [
    "def test2(**kwargs):\n",
    "    for i in kwargs.items():\n",
    "        print(i)\n",
    "        \n",
    "test2(val1='1',val2='2',val3='3',strval=\"Monu\",l=[4,5,6])"
   ]
  },
  {
   "cell_type": "markdown",
   "id": "0a1c01b5-96ec-48b3-827c-760d89754026",
   "metadata": {},
   "source": [
    "QUESTION 3\n"
   ]
  },
  {
   "cell_type": "markdown",
   "id": "2420ba95-0b12-43a9-938a-fb3aab074501",
   "metadata": {},
   "source": [
    "Iterator in Python is an object that is used to iterate over iterable objects like lists, tuples, dicts, and sets.\n",
    "iter method is used for initialisation of iterator.\n",
    "next is used for iteration."
   ]
  },
  {
   "cell_type": "code",
   "execution_count": 18,
   "id": "fec80075-1fcf-418a-a090-3a2b1818bf2f",
   "metadata": {},
   "outputs": [
    {
     "name": "stdout",
     "output_type": "stream",
     "text": [
      "2\n",
      "4\n",
      "6\n",
      "8\n",
      "10\n"
     ]
    }
   ],
   "source": [
    "l=[2, 4, 6, 8, 10, 12, 14,16, 18, 20]\n",
    "iter_list=iter(l)\n",
    "i=0\n",
    "while(i<5):\n",
    "    print(next(iter_list))\n",
    "    i=i+1"
   ]
  },
  {
   "cell_type": "markdown",
   "id": "d60b9b3c-8f08-4d6e-b3d3-9fa0eb280300",
   "metadata": {},
   "source": [
    "QUESTION 4"
   ]
  },
  {
   "cell_type": "markdown",
   "id": "f96277cf-320f-4872-858c-630c787bffd2",
   "metadata": {},
   "source": [
    "A generator is a function that returns an iterator that produces a sequence of values when iterated over."
   ]
  },
  {
   "cell_type": "markdown",
   "id": "912e8dc2-1620-4b9b-9714-059195333be8",
   "metadata": {},
   "source": [
    "Yield are used in Python generators.yield is used when we want to iterate over a sequence, but \n",
    "don't want to store the entire sequence in memory."
   ]
  },
  {
   "cell_type": "code",
   "execution_count": 19,
   "id": "9115d130-34f9-4961-8667-ce7814fc14e3",
   "metadata": {},
   "outputs": [
    {
     "name": "stdout",
     "output_type": "stream",
     "text": [
      "1\n",
      "2\n",
      "3\n",
      "4\n"
     ]
    }
   ],
   "source": [
    "def test():\n",
    "    yield 1\n",
    "    yield 2\n",
    "    yield 3\n",
    "    yield 4\n",
    "for i in test():\n",
    "    print(i)"
   ]
  },
  {
   "cell_type": "markdown",
   "id": "71ca52d5-a8cd-4eb4-b9d9-4d1c1f46d116",
   "metadata": {},
   "source": [
    "QUESTION 5\n"
   ]
  },
  {
   "cell_type": "code",
   "execution_count": 8,
   "id": "5b996004-b1c4-4446-b7b8-8aa2ac088a0a",
   "metadata": {},
   "outputs": [
    {
     "data": {
      "text/plain": [
       "[2, 3, 5, 7, 11, 13, 17, 19, 23, 29]"
      ]
     },
     "execution_count": 8,
     "metadata": {},
     "output_type": "execute_result"
    }
   ],
   "source": [
    "def prime_number(r):\n",
    "    prime=[]\n",
    "    for i in range(2,r+1):\n",
    "        p = True\n",
    "        for j in range(2,i):\n",
    "            if (i%j==0):\n",
    "                p = False\n",
    "        if p:\n",
    "            prime.append(i)\n",
    "\n",
    "    return prime\n",
    "            \n",
    "prime_number(30)                \n",
    "        \n",
    "        "
   ]
  },
  {
   "cell_type": "markdown",
   "id": "343afa6d-fdb9-4757-8b8d-13e46e595888",
   "metadata": {},
   "source": [
    "QUESTION 6"
   ]
  },
  {
   "cell_type": "code",
   "execution_count": 27,
   "id": "a0e12bf2-a772-4f86-a899-c407c56c9675",
   "metadata": {},
   "outputs": [
    {
     "name": "stdout",
     "output_type": "stream",
     "text": [
      "0\n",
      "1\n",
      "1\n",
      "2\n",
      "3\n",
      "5\n",
      "8\n",
      "13\n",
      "21\n",
      "34\n"
     ]
    }
   ],
   "source": [
    "def fibonacci():\n",
    "    a=0\n",
    "    b=1\n",
    "    count=8\n",
    "    i=0\n",
    "    print(a)\n",
    "    print(b)\n",
    "    while(i<8):\n",
    "        c=a+b\n",
    "        print(c)\n",
    "        a=b\n",
    "        b=c\n",
    "        i=i+1\n",
    "        \n",
    "fibonacci()"
   ]
  },
  {
   "cell_type": "markdown",
   "id": "33ddb711-e50b-4fd8-bf91-6315f1b9253e",
   "metadata": {},
   "source": [
    "QUESTION 7"
   ]
  },
  {
   "cell_type": "code",
   "execution_count": 29,
   "id": "46776172-495b-4199-9256-94b934ff2476",
   "metadata": {},
   "outputs": [
    {
     "data": {
      "text/plain": [
       "['p', 'w', 's', 'k', 'i', 'l', 'l', 's']"
      ]
     },
     "execution_count": 29,
     "metadata": {},
     "output_type": "execute_result"
    }
   ],
   "source": [
    "str_value='pwskills'\n",
    "[i for i in str_value]"
   ]
  },
  {
   "cell_type": "markdown",
   "id": "4f7e3a7c-3c0f-44fa-9dc1-09046ba0afb1",
   "metadata": {},
   "source": [
    "QUESTION 8"
   ]
  },
  {
   "cell_type": "code",
   "execution_count": 40,
   "id": "6dad62d6-b644-413b-9b7c-8fc5b51e227d",
   "metadata": {},
   "outputs": [
    {
     "name": "stdout",
     "output_type": "stream",
     "text": [
      "String is palindrom\n"
     ]
    }
   ],
   "source": [
    "def palindrom(s):\n",
    "    if(s==s[::-1]):\n",
    "        print(\"String is palindrom\")\n",
    "    else:\n",
    "        print(\"String is not a  palindrom\")\n",
    "        \n",
    "        \n",
    "string=\"MADAM\"\n",
    "palindrom(string)\n",
    "    "
   ]
  },
  {
   "cell_type": "markdown",
   "id": "4e5549fd-2f80-4742-ab11-bb7911f3100c",
   "metadata": {},
   "source": [
    "QUESTION 9\n"
   ]
  },
  {
   "cell_type": "code",
   "execution_count": 36,
   "id": "b614ad38-c904-41f9-8fae-7f1bcd318cf0",
   "metadata": {},
   "outputs": [
    {
     "data": {
      "text/plain": [
       "[1,\n",
       " 3,\n",
       " 5,\n",
       " 7,\n",
       " 9,\n",
       " 11,\n",
       " 13,\n",
       " 15,\n",
       " 17,\n",
       " 19,\n",
       " 21,\n",
       " 23,\n",
       " 25,\n",
       " 27,\n",
       " 29,\n",
       " 31,\n",
       " 33,\n",
       " 35,\n",
       " 37,\n",
       " 39,\n",
       " 41,\n",
       " 43,\n",
       " 45,\n",
       " 47,\n",
       " 49,\n",
       " 51,\n",
       " 53,\n",
       " 55,\n",
       " 57,\n",
       " 59,\n",
       " 61,\n",
       " 63,\n",
       " 65,\n",
       " 67,\n",
       " 69,\n",
       " 71,\n",
       " 73,\n",
       " 75,\n",
       " 77,\n",
       " 79,\n",
       " 81,\n",
       " 83,\n",
       " 85,\n",
       " 87,\n",
       " 89,\n",
       " 91,\n",
       " 93,\n",
       " 95,\n",
       " 97,\n",
       " 99]"
      ]
     },
     "execution_count": 36,
     "metadata": {},
     "output_type": "execute_result"
    }
   ],
   "source": [
    "l1=list(range(1,101))\n",
    "[i for i in l1 if i%2==1]"
   ]
  },
  {
   "cell_type": "code",
   "execution_count": null,
   "id": "960047d6-c049-4095-9b5f-51006ec7b248",
   "metadata": {},
   "outputs": [],
   "source": []
  }
 ],
 "metadata": {
  "kernelspec": {
   "display_name": "Python 3 (ipykernel)",
   "language": "python",
   "name": "python3"
  },
  "language_info": {
   "codemirror_mode": {
    "name": "ipython",
    "version": 3
   },
   "file_extension": ".py",
   "mimetype": "text/x-python",
   "name": "python",
   "nbconvert_exporter": "python",
   "pygments_lexer": "ipython3",
   "version": "3.10.8"
  }
 },
 "nbformat": 4,
 "nbformat_minor": 5
}
