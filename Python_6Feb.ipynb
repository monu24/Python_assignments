{
 "cells": [
  {
   "cell_type": "markdown",
   "id": "c647b264-5acd-4298-b4e7-a4607fe21151",
   "metadata": {},
   "source": [
    "QUESTION 1:"
   ]
  },
  {
   "cell_type": "code",
   "execution_count": 8,
   "id": "ec874837-29ea-4864-a6f0-334ff2160b4d",
   "metadata": {},
   "outputs": [
    {
     "name": "stdout",
     "output_type": "stream",
     "text": [
      "59227361237697261325516800\n"
     ]
    }
   ],
   "source": [
    "def test(l):\n",
    "    product=1\n",
    "    for i in l:\n",
    "        if(type(i)==int):\n",
    "            product=product*i\n",
    "        elif(type(i)==list):\n",
    "            for j in i:\n",
    "                if(type(j)==int):\n",
    "                    product=product*j\n",
    "        elif(type(i)==tuple):\n",
    "            for j in i:\n",
    "                if(type(j)==int):\n",
    "                    product=product*j\n",
    "        elif(type(i)==set):\n",
    "            for j in i:\n",
    "                if(type(j)==int):\n",
    "                    product=product*j\n",
    "        elif(type(i)==dict):\n",
    "            for k,v in i.items():\n",
    "                if(type(k)==int ):\n",
    "                    product=product*k\n",
    "                elif(type(v)==int):\n",
    "                    product=product*v\n",
    "                elif(type(v)==list):\n",
    "                    for x in v:\n",
    "                        if(type(x)==int):\n",
    "                            product=product*x\n",
    "                elif(type(v)==tuple):\n",
    "                    for x in v:\n",
    "                        if(type(x)==int):\n",
    "                            product=product*x\n",
    "    print(product)\n",
    "        \n",
    "        \n",
    "    \n",
    "list1 = [1,2,3,4, [44,55,66, True], False, (34,56,78,89,34), {1,2,3,3,2,1}, {1:34, \"key2\": [55, 67, 78, 89], 4: (45,\n",
    "22, 61, 34)}, [56, 'data science'], 'Machine Learning']\n",
    "test(list1)"
   ]
  },
  {
   "cell_type": "markdown",
   "id": "778f86ee-2ee8-45f3-83c2-aa836be4b3ca",
   "metadata": {},
   "source": [
    "QUESTION 2:"
   ]
  },
  {
   "cell_type": "code",
   "execution_count": 15,
   "id": "dbea8c26-b64d-4392-824c-7e0cbaefbb4a",
   "metadata": {},
   "outputs": [
    {
     "name": "stdout",
     "output_type": "stream",
     "text": [
      "r$dzmg$gl$yvxlnv$z$wzgz$hxrvmgrhg\n"
     ]
    }
   ],
   "source": [
    "def encrypt_msg(message):\n",
    "    dict={\"a\":\"z\",\"b\":\"y\",\"c\":\"x\",\"d\":\"w\",\"e\":\"v\",\"f\":\"u\",\"g\":\"t\",\"h\":\"s\",\"i\":\"r\",\"j\":\"q\",\"k\":\"p\",\"l\":\"o\",\"m\":\"n\",\"n\":\"m\",\n",
    "         \"o\":\"l\",\"p\":\"k\",\"q\":\"j\",\"r\":\"i\",\"s\":\"h\",\"t\":\"g\",\"u\":\"f\",\"v\":\"e\",\"w\":\"d\",\"x\":\"c\",\"y\":\"b\",\"z\":\"a\",\" \":\"$\"}\n",
    "    \n",
    "    encrypt_val=\"\"\n",
    "    message=message.lower()\n",
    "    for i in message:\n",
    "        encrypt_val=encrypt_val+dict[i]\n",
    "        \n",
    "    print(encrypt_val)\n",
    "\n",
    "\n",
    "message=\"I want to become a Data Scientist\"\n",
    "encrypt_msg(message)"
   ]
  },
  {
   "cell_type": "code",
   "execution_count": null,
   "id": "a41d7003-4cb3-475d-9c1c-7d098ddbb3e6",
   "metadata": {},
   "outputs": [],
   "source": []
  }
 ],
 "metadata": {
  "kernelspec": {
   "display_name": "Python 3 (ipykernel)",
   "language": "python",
   "name": "python3"
  },
  "language_info": {
   "codemirror_mode": {
    "name": "ipython",
    "version": 3
   },
   "file_extension": ".py",
   "mimetype": "text/x-python",
   "name": "python",
   "nbconvert_exporter": "python",
   "pygments_lexer": "ipython3",
   "version": "3.10.8"
  }
 },
 "nbformat": 4,
 "nbformat_minor": 5
}
