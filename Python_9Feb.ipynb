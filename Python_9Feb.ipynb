{
 "cells": [
  {
   "cell_type": "markdown",
   "id": "86657c1d-fced-4e59-9d2b-5fab00b1f796",
   "metadata": {},
   "source": [
    "QUESTION 1:"
   ]
  },
  {
   "cell_type": "code",
   "execution_count": 4,
   "id": "ef871034-5355-400c-8c7a-4c6487272ba3",
   "metadata": {},
   "outputs": [
    {
     "data": {
      "text/plain": [
       "('Creta', 200, 100)"
      ]
     },
     "execution_count": 4,
     "metadata": {},
     "output_type": "execute_result"
    }
   ],
   "source": [
    "class vechile:\n",
    "     def __init__(self,name_of_vehicle,max_speed,average_of_vehicle):\n",
    "            self.name_of_vehicle=name_of_vehicle\n",
    "            self.max_speed=max_speed\n",
    "            self.average_of_vehicle=average_of_vehicle\n",
    "    \n",
    "     def return_val(self):\n",
    "            return (self.name_of_vehicle,self.max_speed,self.average_of_vehicle)\n",
    "    \n",
    "\n",
    "v1=vechile(\"Creta\",200,100)\n",
    "v1.return_val()\n",
    "     \n",
    "    "
   ]
  },
  {
   "cell_type": "markdown",
   "id": "b4aad54d-c82e-4dc6-9e76-31d017c33ba5",
   "metadata": {},
   "source": [
    "QUESTION 2:"
   ]
  },
  {
   "cell_type": "code",
   "execution_count": 8,
   "id": "50c44b63-24d1-40a4-8ee3-94c68ea8cf2e",
   "metadata": {},
   "outputs": [
    {
     "data": {
      "text/plain": [
       "('Creta', 5)"
      ]
     },
     "execution_count": 8,
     "metadata": {},
     "output_type": "execute_result"
    }
   ],
   "source": [
    "class vechile:\n",
    "     def __init__(self,name_of_vehicle,max_speed,average_of_vehicle):\n",
    "            self.name_of_vehicle=name_of_vehicle\n",
    "            self.max_speed=max_speed\n",
    "            self.average_of_vehicle=average_of_vehicle\n",
    "    \n",
    "     def return_val(self):\n",
    "            return (self.name_of_vehicle,self.max_speed,self.average_of_vehicle)\n",
    "        \n",
    "\n",
    "class car(vechile):\n",
    "    def seating_capacity(self,capacity):\n",
    "        self.capacity=capacity\n",
    "        return self.name_of_vehicle,self.capacity\n",
    "    \n",
    "v1=car(\"Creta\",200,100)\n",
    "v1.seating_capacity(5)"
   ]
  },
  {
   "cell_type": "markdown",
   "id": "866a3d52-0a50-442d-99b3-cd2715cb7b77",
   "metadata": {},
   "source": [
    "QUESTION 3:"
   ]
  },
  {
   "cell_type": "markdown",
   "id": "ebbbf480-f612-447d-bcff-bee52b0453b3",
   "metadata": {},
   "source": [
    "Multiple inheritance: When class is derived from more than one base class is called as multiple inheritance."
   ]
  },
  {
   "cell_type": "code",
   "execution_count": 10,
   "id": "3de85f29-1713-4986-806c-b48b88317f3f",
   "metadata": {},
   "outputs": [
    {
     "name": "stdout",
     "output_type": "stream",
     "text": [
      "Class3\n",
      "Class2\n",
      "Class1\n"
     ]
    }
   ],
   "source": [
    "class test1:\n",
    "    def m1():\n",
    "        print(\"Class1\")\n",
    "    \n",
    "class test2:\n",
    "    def m2():\n",
    "        print(\"Class2\")\n",
    "    \n",
    "class test3(test1,test2):\n",
    "    def m3():\n",
    "        print(\"Class3\")\n",
    "        \n",
    "t1=test3\n",
    "t1.m3()\n",
    "t1.m2()\n",
    "t1.m1()"
   ]
  },
  {
   "cell_type": "markdown",
   "id": "5b330138-3d44-47da-89e7-e1562a85ed0c",
   "metadata": {},
   "source": [
    "QUESTION 4:"
   ]
  },
  {
   "cell_type": "markdown",
   "id": "771702be-0bc0-4a79-8a56-c22ec8b53624",
   "metadata": {},
   "source": [
    "getter and setter are used to achieve data encapsulation. Getter methods are used to get the value and Setter methods are used to set the value."
   ]
  },
  {
   "cell_type": "code",
   "execution_count": 14,
   "id": "1c2ce409-450b-4c18-8984-8835aa8569c4",
   "metadata": {},
   "outputs": [
    {
     "data": {
      "text/plain": [
       "30"
      ]
     },
     "execution_count": 14,
     "metadata": {},
     "output_type": "execute_result"
    }
   ],
   "source": [
    "class test:\n",
    "    \n",
    "    def __init__(self,age):\n",
    "        self.__age=age\n",
    "        \n",
    "    def set_age(self,age):\n",
    "        self.__age=age\n",
    "        \n",
    "    def get_age(self):\n",
    "        return self.__age\n",
    "\n",
    "t1=test(0)\n",
    "t1.set_age(30)\n",
    "t1.get_age()"
   ]
  },
  {
   "cell_type": "markdown",
   "id": "9a192558-faee-48b5-b02d-3f452bfba1fa",
   "metadata": {},
   "source": [
    "QUESTION 5:"
   ]
  },
  {
   "cell_type": "markdown",
   "id": "d5c58d80-f87d-43a7-9692-7f26e65c1b09",
   "metadata": {},
   "source": [
    "Method overriding is an ability of an object-oriented programming  that allows a  child class to provide a specific implementation of a method that is already provided by one of its  parent classes."
   ]
  },
  {
   "cell_type": "code",
   "execution_count": 16,
   "id": "937921cf-6530-4ede-a522-50bc98ba8d13",
   "metadata": {},
   "outputs": [
    {
     "name": "stdout",
     "output_type": "stream",
     "text": [
      "Inside child\n",
      "Inside Parent\n"
     ]
    }
   ],
   "source": [
    "class Parent:\n",
    "    def __init__(self):\n",
    "        self.value=\"Inside Parent\"\n",
    "    \n",
    "    def show(self):\n",
    "        print(self.value)\n",
    "    \n",
    "class Child(Parent):\n",
    "    def __init__(self):\n",
    "        self.value=\"Inside child\"\n",
    "    \n",
    "    def show(self):\n",
    "        print(self.value)\n",
    "        \n",
    "c=Child()\n",
    "p=Parent()\n",
    "c.show()\n",
    "p.show()\n"
   ]
  },
  {
   "cell_type": "code",
   "execution_count": null,
   "id": "c6350034-6840-494f-bd32-26a061802119",
   "metadata": {},
   "outputs": [],
   "source": []
  }
 ],
 "metadata": {
  "kernelspec": {
   "display_name": "Python 3 (ipykernel)",
   "language": "python",
   "name": "python3"
  },
  "language_info": {
   "codemirror_mode": {
    "name": "ipython",
    "version": 3
   },
   "file_extension": ".py",
   "mimetype": "text/x-python",
   "name": "python",
   "nbconvert_exporter": "python",
   "pygments_lexer": "ipython3",
   "version": "3.10.8"
  }
 },
 "nbformat": 4,
 "nbformat_minor": 5
}
