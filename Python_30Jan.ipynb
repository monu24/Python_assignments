{
 "cells": [
  {
   "cell_type": "markdown",
   "id": "36b17826-c311-46a9-9e2e-63c341ecfc7b",
   "metadata": {},
   "source": [
    "QUESTION 1:"
   ]
  },
  {
   "cell_type": "code",
   "execution_count": 3,
   "id": "5344c924-bbb6-443e-9337-c18c2433fb2a",
   "metadata": {},
   "outputs": [
    {
     "name": "stdin",
     "output_type": "stream",
     "text": [
      "Enter the percentage: 75\n"
     ]
    },
    {
     "name": "stdout",
     "output_type": "stream",
     "text": [
      "C\n"
     ]
    }
   ],
   "source": [
    "def percentage(val):\n",
    "    if(val>90):\n",
    "        print(\"A\")\n",
    "    elif(val>80 and val<=90):\n",
    "        print(\"B\")\n",
    "    elif(val>=60 and val<=80):\n",
    "        print(\"C\")\n",
    "    elif(val<60):\n",
    "        print(\"D\")\n",
    "\n",
    "value=int(input(\"Enter the percentage:\"))\n",
    "percentage(value)"
   ]
  },
  {
   "cell_type": "markdown",
   "id": "820f3716-df2d-4f4b-b044-ad803e70d28a",
   "metadata": {},
   "source": [
    "QUESTION 2:"
   ]
  },
  {
   "cell_type": "code",
   "execution_count": 8,
   "id": "44c0ea53-72d3-47bc-bbed-9d7174816584",
   "metadata": {},
   "outputs": [
    {
     "name": "stdin",
     "output_type": "stream",
     "text": [
      "Enter the cost price of bike: 340000\n"
     ]
    },
    {
     "name": "stdout",
     "output_type": "stream",
     "text": [
      "Tax is 15%\n"
     ]
    }
   ],
   "source": [
    "def tax(val):\n",
    "    if(val>100000):\n",
    "        print(\"Tax is 15%\")\n",
    "    elif(val>50000 and val<=100000):\n",
    "        print(\"Tax is 10% \")\n",
    "    elif(val<=50000):\n",
    "        print(\"Ta is 5%\")\n",
    "\n",
    "value=int(input(\"Enter the cost price of bike:\"))\n",
    "tax(value)"
   ]
  },
  {
   "cell_type": "markdown",
   "id": "5273b0eb-3815-4724-af96-c14e6bee0c13",
   "metadata": {},
   "source": [
    "QUESTION 3:"
   ]
  },
  {
   "cell_type": "code",
   "execution_count": 10,
   "id": "776b72a2-eed4-49ca-bcef-d3251c48cbd5",
   "metadata": {},
   "outputs": [
    {
     "name": "stdin",
     "output_type": "stream",
     "text": [
      "Enter the city name: AgRA\n"
     ]
    },
    {
     "name": "stdout",
     "output_type": "stream",
     "text": [
      "Taj Mahal\n"
     ]
    }
   ],
   "source": [
    "def monument(city):\n",
    "    if(city.lower() == \"delhi\"):\n",
    "        print(\"Red Fort\")\n",
    "    elif(city.lower()==\"agra\"):\n",
    "        print(\"Taj Mahal\")\n",
    "    elif(city.lower()==\"Jaipur\"):\n",
    "        print(\"Jal Mahal\")\n",
    "\n",
    "city=input(\"Enter the city name:\")\n",
    "monument(city)"
   ]
  },
  {
   "cell_type": "markdown",
   "id": "665039d5-242a-41a8-bdd5-740d8d88245d",
   "metadata": {},
   "source": [
    "QUESTION 4:"
   ]
  },
  {
   "cell_type": "code",
   "execution_count": 12,
   "id": "cedb7338-950e-421b-8642-930f41e9ca7c",
   "metadata": {},
   "outputs": [
    {
     "name": "stdin",
     "output_type": "stream",
     "text": [
      "Enter the value: 81\n"
     ]
    },
    {
     "name": "stdout",
     "output_type": "stream",
     "text": [
      "2\n"
     ]
    }
   ],
   "source": [
    "def test(num):\n",
    "    count=0\n",
    "    while(num>=10):\n",
    "        num=num/3\n",
    "        count=count+1\n",
    "    return count\n",
    " \n",
    "value=int(input(\"Enter the value:\"))\n",
    "result=test(value)\n",
    "print(result)"
   ]
  },
  {
   "cell_type": "markdown",
   "id": "218a0b64-0303-40dd-ad96-842211862140",
   "metadata": {},
   "source": [
    "QUESTION 5:"
   ]
  },
  {
   "cell_type": "markdown",
   "id": "0682f6cc-b5b9-4cf7-8099-db3089d60897",
   "metadata": {},
   "source": [
    "'While' loop is used when we need to end the loop on the condition"
   ]
  },
  {
   "cell_type": "code",
   "execution_count": 13,
   "id": "19bc43df-7fba-4976-83e4-b3d26bf3095b",
   "metadata": {},
   "outputs": [
    {
     "name": "stdout",
     "output_type": "stream",
     "text": [
      "0\n",
      "1\n",
      "2\n",
      "3\n",
      "4\n"
     ]
    }
   ],
   "source": [
    "i=0\n",
    "while(i<5):\n",
    "    print(i)\n",
    "    i=i+1"
   ]
  },
  {
   "cell_type": "markdown",
   "id": "fc6cb469-72c5-4d69-ade0-9c0904e75c75",
   "metadata": {},
   "source": [
    "QUESTION 6:"
   ]
  },
  {
   "cell_type": "code",
   "execution_count": 19,
   "id": "34325d10-31fb-4fe4-ac15-e712fa0ced76",
   "metadata": {},
   "outputs": [
    {
     "name": "stdout",
     "output_type": "stream",
     "text": [
      "* \n",
      "\n",
      "* * \n",
      "\n",
      "* * * \n",
      "\n",
      "* * * * \n",
      "\n",
      "* * * * * \n",
      "\n"
     ]
    }
   ],
   "source": [
    "def pattern():\n",
    "    n=5\n",
    "    i=0\n",
    "    j=0\n",
    "    while(i<n):\n",
    "        while(j<=i):\n",
    "            print(\"*\",end=\" \")\n",
    "            j=j+1\n",
    "        print(\"\\n\")\n",
    "        i=i+1\n",
    "        j=0\n",
    "\n",
    "pattern()"
   ]
  },
  {
   "cell_type": "markdown",
   "id": "735ba5d4-a98e-4649-956f-dabd469767b0",
   "metadata": {},
   "source": [
    "QUESTION 7:"
   ]
  },
  {
   "cell_type": "code",
   "execution_count": 20,
   "id": "59161f21-cb53-4099-9fec-95f9ce7ae103",
   "metadata": {},
   "outputs": [
    {
     "name": "stdout",
     "output_type": "stream",
     "text": [
      "10\n",
      "9\n",
      "8\n",
      "7\n",
      "6\n",
      "5\n",
      "4\n",
      "3\n",
      "2\n",
      "1\n"
     ]
    }
   ],
   "source": [
    "def reverse(val):\n",
    "    while(val>0):\n",
    "        print(val)\n",
    "        val=val-1\n",
    "\n",
    "reverse(10)"
   ]
  },
  {
   "cell_type": "code",
   "execution_count": null,
   "id": "f5ac726a-705c-4614-8583-3a909182dd73",
   "metadata": {},
   "outputs": [],
   "source": []
  }
 ],
 "metadata": {
  "kernelspec": {
   "display_name": "Python 3 (ipykernel)",
   "language": "python",
   "name": "python3"
  },
  "language_info": {
   "codemirror_mode": {
    "name": "ipython",
    "version": 3
   },
   "file_extension": ".py",
   "mimetype": "text/x-python",
   "name": "python",
   "nbconvert_exporter": "python",
   "pygments_lexer": "ipython3",
   "version": "3.10.8"
  }
 },
 "nbformat": 4,
 "nbformat_minor": 5
}
