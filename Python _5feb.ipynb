{
 "cells": [
  {
   "cell_type": "markdown",
   "id": "c66871dc-de1f-40d0-8af9-248bd848b6da",
   "metadata": {},
   "source": [
    "Question 1:\n"
   ]
  },
  {
   "cell_type": "markdown",
   "id": "49f1c766-934c-4205-a82c-c7191909ed61",
   "metadata": {},
   "source": [
    "Class is a blueprint that hold the datamembers and functions. It creates a user defined datatypes.\n",
    "Objects are the instance of the class."
   ]
  },
  {
   "cell_type": "code",
   "execution_count": 1,
   "id": "363fe507-175f-4d9f-b12b-f39c43319bae",
   "metadata": {},
   "outputs": [],
   "source": [
    "class test:\n",
    "    def __init__(self,name,roll_no):\n",
    "        self.name=name\n",
    "        self.roll_no=roll_no\n",
    "        \n",
    "    def return_val(self):\n",
    "        return self.name,self.roll_no"
   ]
  },
  {
   "cell_type": "code",
   "execution_count": 2,
   "id": "2114ebe4-e13e-4df8-b899-03ca0ba6e9dc",
   "metadata": {},
   "outputs": [],
   "source": [
    "a=test(\"Rohan\",123)"
   ]
  },
  {
   "cell_type": "code",
   "execution_count": 4,
   "id": "7cc0f236-0fad-4944-a13a-617cbb579460",
   "metadata": {},
   "outputs": [
    {
     "data": {
      "text/plain": [
       "('Rohan', 123)"
      ]
     },
     "execution_count": 4,
     "metadata": {},
     "output_type": "execute_result"
    }
   ],
   "source": [
    "a.return_val()"
   ]
  },
  {
   "cell_type": "markdown",
   "id": "fb0bea78-e3b3-48ff-bcec-7b10c6c34fbd",
   "metadata": {},
   "source": [
    "Question 2:"
   ]
  },
  {
   "cell_type": "markdown",
   "id": "36151665-745c-45c5-9f03-b7ff7e014f82",
   "metadata": {},
   "source": [
    "The four pillars of OOPs are:\n",
    "1.Encapsulation\n",
    "2.Inheritance\n",
    "3.Polymorphism\n",
    "4.Abstraction\n",
    "    "
   ]
  },
  {
   "cell_type": "markdown",
   "id": "249f15a6-aab1-4dcf-9081-72c1880de0bc",
   "metadata": {},
   "source": [
    "Question 3:"
   ]
  },
  {
   "cell_type": "markdown",
   "id": "1f5416c7-7164-4994-af27-882dd7ec0df2",
   "metadata": {},
   "source": [
    "__init__ function is used to initialise the object state. It acts as a constructor in Python."
   ]
  },
  {
   "cell_type": "code",
   "execution_count": 5,
   "id": "4819ef59-6bb3-44cd-bdcf-308369dae3c2",
   "metadata": {},
   "outputs": [],
   "source": [
    "class test:\n",
    "    def __init__(self,name,roll_no):\n",
    "        self.name=name\n",
    "        self.roll_no=roll_no\n",
    "        \n",
    "    def return_val(self):\n",
    "        return self.name,self.roll_no"
   ]
  },
  {
   "cell_type": "code",
   "execution_count": 6,
   "id": "5ebd7765-6348-4a1a-ab24-3f2e39899274",
   "metadata": {},
   "outputs": [
    {
     "data": {
      "text/plain": [
       "('Alok', 456)"
      ]
     },
     "execution_count": 6,
     "metadata": {},
     "output_type": "execute_result"
    }
   ],
   "source": [
    "b=test(\"Alok\",456)\n",
    "b.return_val()"
   ]
  },
  {
   "cell_type": "markdown",
   "id": "3698ad4f-5d8d-4ba7-89ac-fd9efecae284",
   "metadata": {},
   "source": [
    "Question 4:"
   ]
  },
  {
   "cell_type": "markdown",
   "id": "d47933c3-ec75-49ee-8db6-65aef808cce6",
   "metadata": {},
   "source": [
    "self  is a reference to the current instance of the class, and is used to access variables and methods of that class."
   ]
  },
  {
   "cell_type": "markdown",
   "id": "0a54e89c-3a48-4a13-b2a5-4b6ce8c74631",
   "metadata": {},
   "source": [
    "Question 5:"
   ]
  },
  {
   "cell_type": "markdown",
   "id": "d664b615-e52e-4888-b4d5-3ac51607f87f",
   "metadata": {},
   "source": [
    "Inheritance allows us to define a class that inherits all the methods and properties from another class.The different types of inheritance are as follows: 1.Single level inheritance 2. Multiple inheritance 3. Multilevel inheritance 4. Hybrid inheritance 5. Hierarchical inheritance"
   ]
  },
  {
   "cell_type": "code",
   "execution_count": null,
   "id": "4644e529-cf50-4692-ad67-c4651ec6baf9",
   "metadata": {},
   "outputs": [],
   "source": []
  }
 ],
 "metadata": {
  "kernelspec": {
   "display_name": "Python 3 (ipykernel)",
   "language": "python",
   "name": "python3"
  },
  "language_info": {
   "codemirror_mode": {
    "name": "ipython",
    "version": 3
   },
   "file_extension": ".py",
   "mimetype": "text/x-python",
   "name": "python",
   "nbconvert_exporter": "python",
   "pygments_lexer": "ipython3",
   "version": "3.10.8"
  }
 },
 "nbformat": 4,
 "nbformat_minor": 5
}
