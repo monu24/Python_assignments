{
 "cells": [
  {
   "cell_type": "markdown",
   "id": "1efd98c7-068f-4c7e-99d2-1e54d9e57ff1",
   "metadata": {},
   "source": [
    "QUESTION 1:"
   ]
  },
  {
   "cell_type": "code",
   "execution_count": 5,
   "id": "e684c38a-d970-4271-8b16-5f13fef81314",
   "metadata": {},
   "outputs": [
    {
     "name": "stdin",
     "output_type": "stream",
     "text": [
      "Enter a password COding24@!#\n"
     ]
    },
    {
     "name": "stdout",
     "output_type": "stream",
     "text": [
      "Valid password\n"
     ]
    }
   ],
   "source": [
    "def test(password):\n",
    "    lower=0\n",
    "    upper=0\n",
    "    val=0\n",
    "    count=0\n",
    "    special_char=['@','_','!','#','$','%','^','&','*','()','<','>','?','/','|','}','{','~',':']\n",
    "    if (len(password)>=10):\n",
    "        for i in password:\n",
    "            if(i.islower()==True):\n",
    "                lower=lower+1\n",
    "            elif(i.isupper()==True):\n",
    "                upper=upper+1\n",
    "            elif(i.isnumeric()==True):\n",
    "                val=val+1\n",
    "            elif(i in special_char):\n",
    "                count=count+1\n",
    "                \n",
    "        if (lower>=2 and upper>=2 and val>=1 and count==3):\n",
    "            print(\"Valid password\")\n",
    "        else:\n",
    "            print(\"Invalid Password\")\n",
    "            \n",
    "    \n",
    "    else:\n",
    "        print(\"Invalid password\")\n",
    "\n",
    "password=input(\"Enter a password\")\n",
    "test(password)"
   ]
  },
  {
   "cell_type": "markdown",
   "id": "24009a1d-55d2-4810-8304-c679d0d8c7f5",
   "metadata": {},
   "source": [
    "QUESTION 2:"
   ]
  },
  {
   "cell_type": "code",
   "execution_count": 7,
   "id": "73597106-6a1a-4e69-9286-d19b1fbbf2c2",
   "metadata": {},
   "outputs": [
    {
     "data": {
      "text/plain": [
       "True"
      ]
     },
     "execution_count": 7,
     "metadata": {},
     "output_type": "execute_result"
    }
   ],
   "source": [
    "starts=lambda x:x.startswith('I')\n",
    "starts(\"India\")\n",
    "                            "
   ]
  },
  {
   "cell_type": "code",
   "execution_count": 9,
   "id": "2d800986-71f7-4e8e-986b-ae9b16edacba",
   "metadata": {},
   "outputs": [
    {
     "data": {
      "text/plain": [
       "True"
      ]
     },
     "execution_count": 9,
     "metadata": {},
     "output_type": "execute_result"
    }
   ],
   "source": [
    "num=lambda x:x.isnumeric()\n",
    "num('45')"
   ]
  },
  {
   "cell_type": "code",
   "execution_count": 12,
   "id": "ea5a6dde-24a5-4186-bedc-3c766ddfd50a",
   "metadata": {},
   "outputs": [
    {
     "data": {
      "text/plain": [
       "[('orange', 80), ('mango', 99), ('grapes', 1000)]"
      ]
     },
     "execution_count": 12,
     "metadata": {},
     "output_type": "execute_result"
    }
   ],
   "source": [
    "t=[(\"mango\",99),(\"orange\",80), (\"grapes\", 1000)]\n",
    "t.sort(key=lambda x:x[1])\n",
    "t"
   ]
  },
  {
   "cell_type": "code",
   "execution_count": 13,
   "id": "79489502-ab7a-457c-ab94-e4412f22bd90",
   "metadata": {},
   "outputs": [
    {
     "data": {
      "text/plain": [
       "[1, 4, 9, 16, 25, 36, 49, 64, 81, 100]"
      ]
     },
     "execution_count": 13,
     "metadata": {},
     "output_type": "execute_result"
    }
   ],
   "source": [
    "l=[1,2,3,4,5,6,7,8,9,10]\n",
    "list(map(lambda x:x**2,l))"
   ]
  },
  {
   "cell_type": "code",
   "execution_count": 28,
   "id": "a13be8f9-9404-47c3-8e75-ecd677c29ad0",
   "metadata": {},
   "outputs": [
    {
     "data": {
      "text/plain": [
       "[1.0,\n",
       " 1.2599210498948732,\n",
       " 1.4422495703074083,\n",
       " 1.5874010519681994,\n",
       " 1.7099759466766968,\n",
       " 1.8171205928321397,\n",
       " 1.912931182772389,\n",
       " 2.0,\n",
       " 2.080083823051904,\n",
       " 2.154434690031884]"
      ]
     },
     "execution_count": 28,
     "metadata": {},
     "output_type": "execute_result"
    }
   ],
   "source": [
    "l=[1,2,3,4,5,6,7,8,9,10]\n",
    "list(map(lambda x:x**(1/3),l))"
   ]
  },
  {
   "cell_type": "code",
   "execution_count": 16,
   "id": "568b583b-b93c-41eb-a756-4a37aa7dd9f6",
   "metadata": {},
   "outputs": [
    {
     "data": {
      "text/plain": [
       "[2, 4, 6, 8, 10]"
      ]
     },
     "execution_count": 16,
     "metadata": {},
     "output_type": "execute_result"
    }
   ],
   "source": [
    "l=[1,2,3,4,5,6,7,8,9,10]\n",
    "l1=[i for i in l if i %2==0 ]\n",
    "l1"
   ]
  },
  {
   "cell_type": "code",
   "execution_count": 17,
   "id": "e8ad56eb-ae2e-4700-af98-c8ce39773e96",
   "metadata": {},
   "outputs": [
    {
     "data": {
      "text/plain": [
       "[1, 3, 5, 7, 9]"
      ]
     },
     "execution_count": 17,
     "metadata": {},
     "output_type": "execute_result"
    }
   ],
   "source": [
    "l=[1,2,3,4,5,6,7,8,9,10]\n",
    "list(filter(lambda x: x%2==1,l))"
   ]
  },
  {
   "cell_type": "code",
   "execution_count": 22,
   "id": "71fc3cb6-580a-4da4-a36a-6c8658dd0285",
   "metadata": {},
   "outputs": [
    {
     "data": {
      "text/plain": [
       "[-5, -4, -3, -2, -1, 0, 1, 2, 3, 4, 5, 6]"
      ]
     },
     "execution_count": 22,
     "metadata": {},
     "output_type": "execute_result"
    }
   ],
   "source": [
    "l=[1,2,3,4,5,6,-1,-2,-3,-4,-5,0]\n",
    "l.sort()\n",
    "l"
   ]
  },
  {
   "cell_type": "code",
   "execution_count": null,
   "id": "4309751a-22f5-4770-b835-dc7e7402d207",
   "metadata": {},
   "outputs": [],
   "source": []
  }
 ],
 "metadata": {
  "kernelspec": {
   "display_name": "Python 3 (ipykernel)",
   "language": "python",
   "name": "python3"
  },
  "language_info": {
   "codemirror_mode": {
    "name": "ipython",
    "version": 3
   },
   "file_extension": ".py",
   "mimetype": "text/x-python",
   "name": "python",
   "nbconvert_exporter": "python",
   "pygments_lexer": "ipython3",
   "version": "3.10.8"
  }
 },
 "nbformat": 4,
 "nbformat_minor": 5
}
