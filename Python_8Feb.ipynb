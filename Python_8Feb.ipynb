{
 "cells": [
  {
   "cell_type": "markdown",
   "id": "64eb2aa7-abc4-41de-9a5f-7c8dcb7fdf25",
   "metadata": {},
   "source": [
    "QUESTION 1:"
   ]
  },
  {
   "cell_type": "markdown",
   "id": "702b9762-392f-4b46-9e8e-2062d924db5d",
   "metadata": {},
   "source": [
    "Abstraction in python is achieved through abstract classes and methods. Abstract class have abstract methods.Abstract method does not \n",
    "have methods implimentation."
   ]
  },
  {
   "cell_type": "code",
   "execution_count": 2,
   "id": "f2a620e3-e153-4379-a5dd-9a7b4002dd8d",
   "metadata": {},
   "outputs": [],
   "source": [
    "import abc\n",
    "\n",
    "class test:\n",
    "    @abc.abstractmethod\n",
    "    def method_1(self):\n",
    "        pass\n",
    "    \n",
    "    def method_2(self):\n",
    "        pass\n",
    "    \n",
    "    def method_3(self):\n",
    "        pass\n"
   ]
  },
  {
   "cell_type": "markdown",
   "id": "2fce9f39-ac2b-4150-bba4-953047a79eca",
   "metadata": {},
   "source": [
    "QUESTION 2:"
   ]
  },
  {
   "cell_type": "markdown",
   "id": "cd119f60-3500-409c-af83-4f4d755c56c3",
   "metadata": {},
   "source": [
    "ENCAPSULATION:\n",
    "Encapsulation is a way of hiding data in a single entity  and a way of protecting information from the outside world.It can be implemented using access modifiers like  private "
   ]
  },
  {
   "cell_type": "markdown",
   "id": "57642d48-d83d-43e0-bc5a-58f156125dd2",
   "metadata": {},
   "source": [
    "ABSTRACTION:Abstraction is a way of hiding unnecessary information.Abstract classes and interfaces can be used to implement abstractions"
   ]
  },
  {
   "cell_type": "markdown",
   "id": "cd05109e-e252-4ccd-91d1-d98845446642",
   "metadata": {},
   "source": [
    "QUESTION 3:"
   ]
  },
  {
   "cell_type": "markdown",
   "id": "e4730e19-efa4-4ab4-b127-e9468bd29048",
   "metadata": {},
   "source": [
    "'abc' module in Python library provides the infrastructure for defining  abstract base classes."
   ]
  },
  {
   "cell_type": "markdown",
   "id": "4f842019-82d9-49a9-8932-d413b7c83475",
   "metadata": {},
   "source": [
    "QUESTION 4:"
   ]
  },
  {
   "cell_type": "markdown",
   "id": "cb766ecf-da5d-4d0d-84e4-1026c9a06444",
   "metadata": {},
   "source": [
    "Data abstraction can be achieved by having  abstract classes and methods in a program. Abstract method is a method that is declared, but does not contain implementation"
   ]
  },
  {
   "cell_type": "markdown",
   "id": "33a34df6-62f5-41e1-8c19-b99f19d3a3d0",
   "metadata": {},
   "source": [
    "QUESTION 5:\n",
    "    "
   ]
  },
  {
   "cell_type": "markdown",
   "id": "b224ebd0-0796-4aa1-bf21-78bdf83b465c",
   "metadata": {},
   "source": [
    "We cannot create an object or instance of the abstract classes as it contain abstract methods."
   ]
  },
  {
   "cell_type": "code",
   "execution_count": null,
   "id": "24d0e413-b919-4523-8444-facc4a533aa0",
   "metadata": {},
   "outputs": [],
   "source": []
  }
 ],
 "metadata": {
  "kernelspec": {
   "display_name": "Python 3 (ipykernel)",
   "language": "python",
   "name": "python3"
  },
  "language_info": {
   "codemirror_mode": {
    "name": "ipython",
    "version": 3
   },
   "file_extension": ".py",
   "mimetype": "text/x-python",
   "name": "python",
   "nbconvert_exporter": "python",
   "pygments_lexer": "ipython3",
   "version": "3.10.8"
  }
 },
 "nbformat": 4,
 "nbformat_minor": 5
}
