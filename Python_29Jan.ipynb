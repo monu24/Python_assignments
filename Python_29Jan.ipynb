{
 "cells": [
  {
   "cell_type": "markdown",
   "id": "6418802c-b1be-45dc-b98b-f5f8294e6f50",
   "metadata": {},
   "source": [
    "QUESTION 1:"
   ]
  },
  {
   "cell_type": "markdown",
   "id": "5e446a47-68e0-40b6-b59e-125bdd2329b6",
   "metadata": {},
   "source": [
    "Guido van Rossum developed Python"
   ]
  },
  {
   "cell_type": "markdown",
   "id": "b8258029-e3ad-40cb-ab95-2eb6c660a2ed",
   "metadata": {},
   "source": [
    "QUESTION 2:\n"
   ]
  },
  {
   "cell_type": "markdown",
   "id": "a3c00ce1-c605-4d7e-9211-7b6dec302d84",
   "metadata": {},
   "source": [
    "Python supports object oriented programming"
   ]
  },
  {
   "cell_type": "markdown",
   "id": "bf369ead-c17f-430e-a26c-3363c2fd19db",
   "metadata": {},
   "source": [
    "QUESTION 3:"
   ]
  },
  {
   "cell_type": "markdown",
   "id": "c0eb955e-448b-44e9-8652-96576792b6ee",
   "metadata": {},
   "source": [
    "Yes python is case sensitive"
   ]
  },
  {
   "cell_type": "markdown",
   "id": "28f57421-2ca3-4716-ba42-df4d21067874",
   "metadata": {},
   "source": [
    "QUESTION 4:\n",
    "    "
   ]
  },
  {
   "cell_type": "markdown",
   "id": "96b3577a-61f5-47e3-81bf-09e74ecb0e92",
   "metadata": {},
   "source": [
    ".py is the extension of python."
   ]
  },
  {
   "cell_type": "markdown",
   "id": "268ce79d-f658-42c2-9f8d-352a770e6e08",
   "metadata": {},
   "source": [
    "QUESTION 5:"
   ]
  },
  {
   "cell_type": "markdown",
   "id": "b0d3b1cc-125b-49bb-a4b3-aecf9d011116",
   "metadata": {},
   "source": [
    "Python is interpreted programming language."
   ]
  },
  {
   "cell_type": "markdown",
   "id": "4042fea7-7043-4284-8718-faf389cdcd1b",
   "metadata": {},
   "source": [
    "QUESTION 6:"
   ]
  },
  {
   "cell_type": "markdown",
   "id": "ec8f77d0-28a0-479e-8535-c3f371fab083",
   "metadata": {},
   "source": [
    "Function is used to define the block of code"
   ]
  },
  {
   "cell_type": "markdown",
   "id": "7b2a9006-5bdf-4e53-bcee-7902c12c298c",
   "metadata": {},
   "source": [
    "QUESTION 7:"
   ]
  },
  {
   "cell_type": "markdown",
   "id": "5ccaca15-7ba7-4189-9038-2d3312d1517e",
   "metadata": {},
   "source": [
    "Single line comment in python is given by #."
   ]
  },
  {
   "cell_type": "markdown",
   "id": "41c83d60-2925-45d0-aa59-018d2fd744a3",
   "metadata": {},
   "source": [
    "QUESTION 8:"
   ]
  },
  {
   "cell_type": "markdown",
   "id": "db5a1b17-b9bb-42aa-8326-72742ed5c43f",
   "metadata": {},
   "source": [
    "python --version"
   ]
  },
  {
   "cell_type": "markdown",
   "id": "832e7b0d-31af-4160-8655-4c686d4c80b3",
   "metadata": {},
   "source": [
    "QUESTION 9:"
   ]
  },
  {
   "cell_type": "markdown",
   "id": "8f6ea817-9c00-469d-9a5f-fbc285857b82",
   "metadata": {},
   "source": [
    "Anonymous functions using lambda function."
   ]
  },
  {
   "cell_type": "markdown",
   "id": "3173e121-3781-4a04-b30a-cae9655b673f",
   "metadata": {},
   "source": [
    "QUESTION 10:"
   ]
  },
  {
   "cell_type": "markdown",
   "id": "df09fbf1-01cc-4468-9e3d-3b43e09ed6de",
   "metadata": {},
   "source": [
    "pip full form is pip install packages"
   ]
  },
  {
   "cell_type": "markdown",
   "id": "ea661b38-c6b0-498c-a9dd-992bcca65cc6",
   "metadata": {},
   "source": [
    "QUESTION 11:\n",
    "    "
   ]
  },
  {
   "cell_type": "markdown",
   "id": "440e773c-d4ba-4f47-bfab-9c5e18e6a17f",
   "metadata": {},
   "source": [
    "Built in functions in python are print(),type(),list(),tuple(),set(),dict() etc"
   ]
  },
  {
   "cell_type": "markdown",
   "id": "55f0a3d1-5c41-46ef-83e2-59f8eab58ed6",
   "metadata": {},
   "source": [
    "QUESTION 12:"
   ]
  },
  {
   "cell_type": "markdown",
   "id": "576c269a-0b95-4f6a-a6ad-96a0f025ae96",
   "metadata": {},
   "source": [
    "Maximum length of identifier is 79 characters"
   ]
  },
  {
   "cell_type": "markdown",
   "id": "f14e4b5d-befa-4bd4-9c2d-5f16e16a1c2d",
   "metadata": {},
   "source": [
    "QUESTION 13:"
   ]
  },
  {
   "cell_type": "markdown",
   "id": "b350e1a5-ff1c-4e18-902c-79863508403f",
   "metadata": {},
   "source": [
    "Benefits of python are it is simple and easy to use. Can be used in data science , web developement , game developement,mathematical \n",
    "computing, trading and finance."
   ]
  },
  {
   "cell_type": "markdown",
   "id": "357bc41f-4cf3-4545-911b-44221bf687d7",
   "metadata": {},
   "source": [
    "QUESTION 14:"
   ]
  },
  {
   "cell_type": "markdown",
   "id": "587506d7-a18a-41e0-8241-1668227cb1a5",
   "metadata": {},
   "source": [
    "Memory management in python involves management of a private heap."
   ]
  },
  {
   "cell_type": "markdown",
   "id": "fffcc92c-8eee-4862-8542-d88aa789831f",
   "metadata": {},
   "source": [
    "QUESTION 15:"
   ]
  },
  {
   "cell_type": "markdown",
   "id": "b779ec45-c53f-43df-878b-63de795ca691",
   "metadata": {},
   "source": [
    "Steps to install python are:\n",
    "\n",
    "1.Right-clicking This PC and going to Properties.\n",
    "2.Clicking on the Advanced system settings in the menu on the left.\n",
    "3.Clicking on the Environment Variables button on the bottom right.\n",
    "4.In the System variables section, selecting the Path variable and clicking on Edit. The next screen will show all the directories that are currently a part of the PATH variable.\n",
    "5.Clicking on New and entering Python’s install directory.\n",
    "\n",
    "    "
   ]
  },
  {
   "cell_type": "markdown",
   "id": "46d8d651-155f-4d05-95b5-844114b7950e",
   "metadata": {},
   "source": [
    "QUESTION 16:"
   ]
  },
  {
   "cell_type": "markdown",
   "id": "e1d47f19-387a-4453-88ca-f14d69810a78",
   "metadata": {},
   "source": [
    "Yes indentation is required in python"
   ]
  },
  {
   "cell_type": "code",
   "execution_count": null,
   "id": "4fd24f7d-e352-4cb1-be20-a99b7d73a2b6",
   "metadata": {},
   "outputs": [],
   "source": []
  }
 ],
 "metadata": {
  "kernelspec": {
   "display_name": "Python 3 (ipykernel)",
   "language": "python",
   "name": "python3"
  },
  "language_info": {
   "codemirror_mode": {
    "name": "ipython",
    "version": 3
   },
   "file_extension": ".py",
   "mimetype": "text/x-python",
   "name": "python",
   "nbconvert_exporter": "python",
   "pygments_lexer": "ipython3",
   "version": "3.10.8"
  }
 },
 "nbformat": 4,
 "nbformat_minor": 5
}
