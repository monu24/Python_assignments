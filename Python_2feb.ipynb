{
 "cells": [
  {
   "cell_type": "markdown",
   "id": "372b394f-42f0-404c-8f7e-3c530f712ebc",
   "metadata": {},
   "source": [
    "Question 1:"
   ]
  },
  {
   "cell_type": "markdown",
   "id": "b4dcfb07-8ff6-43a0-9788-97855bd7300f",
   "metadata": {},
   "source": [
    "'While' loop is used when we need to end the loop on the condition other than the number of times .'for' loop is used when the number of iterations are known."
   ]
  },
  {
   "cell_type": "code",
   "execution_count": 3,
   "id": "47751511-93af-488f-957e-81c6c2b81a6e",
   "metadata": {},
   "outputs": [
    {
     "name": "stdout",
     "output_type": "stream",
     "text": [
      "4\n",
      "5\n",
      "6\n",
      "7\n",
      "8\n"
     ]
    }
   ],
   "source": [
    "l=[4,5,6,7,8]\n",
    "for i in l:\n",
    "    print(i)"
   ]
  },
  {
   "cell_type": "code",
   "execution_count": 2,
   "id": "dc1520ac-cda9-4eab-825d-27e7cfb4a9f1",
   "metadata": {},
   "outputs": [
    {
     "name": "stdout",
     "output_type": "stream",
     "text": [
      "0\n",
      "1\n",
      "2\n",
      "3\n",
      "4\n"
     ]
    }
   ],
   "source": [
    "i=0\n",
    "while(i<5):\n",
    "    print(i)\n",
    "    i=i+1\n",
    "    "
   ]
  },
  {
   "cell_type": "markdown",
   "id": "2446d27b-09e0-4416-9826-7c343984da51",
   "metadata": {},
   "source": [
    "Question:2\n"
   ]
  },
  {
   "cell_type": "code",
   "execution_count": 4,
   "id": "5aa009b1-a09d-4795-8e28-6d194eedd4d9",
   "metadata": {},
   "outputs": [
    {
     "name": "stdout",
     "output_type": "stream",
     "text": [
      "The sum of first 10 natural numbers is :55 \n",
      "The product of first 10 natural numbers is :3628800 \n"
     ]
    }
   ],
   "source": [
    "#Using for loop\n",
    "\n",
    "n=10\n",
    "sum_result=0 \n",
    "mul_result=1\n",
    "for i in range(1,n+1):\n",
    "    sum_result=sum_result+i\n",
    "    mul_result=mul_result*i\n",
    "    \n",
    "print(f\"The sum of first 10 natural numbers is :{sum_result} \")\n",
    "print(f\"The product of first 10 natural numbers is :{mul_result} \")"
   ]
  },
  {
   "cell_type": "code",
   "execution_count": 5,
   "id": "ad45d70c-f11c-413e-a312-5e5e7adffb90",
   "metadata": {},
   "outputs": [
    {
     "name": "stdout",
     "output_type": "stream",
     "text": [
      "The sum of first 10 natural numbers is :55 \n",
      "The product of first 10 natural numbers is :3628800 \n"
     ]
    }
   ],
   "source": [
    "#Using while loop\n",
    "\n",
    "i=1\n",
    "sum_result=0 \n",
    "mul_result=1\n",
    "while(i<=10):\n",
    "    sum_result=sum_result+i\n",
    "    mul_result=mul_result*i\n",
    "    i=i+1\n",
    "    \n",
    "print(f\"The sum of first 10 natural numbers is :{sum_result} \")\n",
    "print(f\"The product of first 10 natural numbers is :{mul_result} \")"
   ]
  },
  {
   "cell_type": "markdown",
   "id": "3170cb64-a285-4f72-8d63-3c3fc417876d",
   "metadata": {},
   "source": [
    "Question:3"
   ]
  },
  {
   "cell_type": "code",
   "execution_count": 21,
   "id": "5a58f564-3bb9-4630-b6b2-895af94df0ea",
   "metadata": {},
   "outputs": [
    {
     "name": "stdin",
     "output_type": "stream",
     "text": [
      "Enter the electricity consumed in units: 350\n"
     ]
    },
    {
     "name": "stdout",
     "output_type": "stream",
     "text": [
      "The bill for 350 units of  electricity consumed is:3050\n"
     ]
    }
   ],
   "source": [
    "charges=(4.5,6,10,20)\n",
    "electricity=int(input(\"Enter the electricity consumed in units:\"))\n",
    "bill=0\n",
    "val=int(electricity/100)\n",
    "mod=electricity%100\n",
    "if(val==0):\n",
    "    bill=bill+mod*charges[val]\n",
    "elif(val==1):    \n",
    "    bill=bill+100*charges[0]+mod*charges[val]\n",
    "elif(val==2):    \n",
    "    bill=bill+100*charges[0]+100*charges[1]+mod*charges[val]\n",
    "elif(val==3 ):    \n",
    "    bill=bill+100*charges[0]+100*charges[1]+100*charges[2]+mod*charges[val]\n",
    "elif(val>3):\n",
    "    bill=bill+100*charges[0]+100*charges[1]+100*charges[2]+(electricity-300)*charges[3]\n",
    "    \n",
    "print(f\"The bill for {electricity} units of  electricity consumed is:{int(bill)}\")"
   ]
  },
  {
   "cell_type": "markdown",
   "id": "551971ea-2fe7-4b0e-bc13-44e4bc624162",
   "metadata": {},
   "source": [
    "QUESTION 4"
   ]
  },
  {
   "cell_type": "code",
   "execution_count": 18,
   "id": "c55556d0-f2c8-45c3-98b9-4e090e1aa732",
   "metadata": {},
   "outputs": [
    {
     "name": "stdout",
     "output_type": "stream",
     "text": [
      "[8, 64, 125, 216, 512, 1000, 1728, 2744, 3375, 4096, 5832, 8000, 10648, 13824, 15625, 17576, 21952, 27000, 32768, 39304, 42875, 46656, 54872, 64000, 74088, 85184, 91125, 97336, 110592, 125000, 140608, 157464, 166375, 175616, 195112, 216000, 238328, 262144, 274625, 287496, 314432, 343000, 373248, 405224, 421875, 438976, 474552, 512000, 551368, 592704, 614125, 636056, 681472, 729000, 778688, 830584, 857375, 884736, 941192, 1000000]\n"
     ]
    }
   ],
   "source": [
    "#Using for loop\n",
    "\n",
    "l=list(range(1,101))\n",
    "new_list=[]\n",
    "for i in l:\n",
    "    val=i**3\n",
    "    if(val %4 ==0 or val %5==0):\n",
    "        new_list.append(val)\n",
    "print(new_list)\n"
   ]
  },
  {
   "cell_type": "code",
   "execution_count": 19,
   "id": "45d7dc3f-3b3a-40ae-9ac1-831af70f0ae5",
   "metadata": {},
   "outputs": [
    {
     "name": "stdout",
     "output_type": "stream",
     "text": [
      "[8, 64, 125, 216, 512, 1000, 1728, 2744, 3375, 4096, 5832, 8000, 10648, 13824, 15625, 17576, 21952, 27000, 32768, 39304, 42875, 46656, 54872, 64000, 74088, 85184, 91125, 97336, 110592, 125000, 140608, 157464, 166375, 175616, 195112, 216000, 238328, 262144, 274625, 287496, 314432, 343000, 373248, 405224, 421875, 438976, 474552, 512000, 551368, 592704, 614125, 636056, 681472, 729000, 778688, 830584, 857375, 884736, 941192, 1000000]\n"
     ]
    }
   ],
   "source": [
    "#Using wile loop\n",
    "\n",
    "new_list=[]\n",
    "i=1\n",
    "while(i<101):\n",
    "    value=i**3\n",
    "    if(value %4 ==0 or value %5==0):\n",
    "        new_list.append(value)\n",
    "    i=i+1\n",
    "print(new_list)\n"
   ]
  },
  {
   "cell_type": "markdown",
   "id": "26dbc0a5-9f5a-4196-9d51-86209cdd48ac",
   "metadata": {},
   "source": [
    "Question 5\n"
   ]
  },
  {
   "cell_type": "code",
   "execution_count": 20,
   "id": "401b2866-524e-4095-8ddf-723482462d37",
   "metadata": {},
   "outputs": [
    {
     "name": "stdout",
     "output_type": "stream",
     "text": [
      "11\n"
     ]
    }
   ],
   "source": [
    "string = \"I want to become a data scientist\"\n",
    "l=['a','e','i','o','u']\n",
    "result=0\n",
    "for i in l:\n",
    "    result=result+string.count(i)\n",
    "print(result)"
   ]
  },
  {
   "cell_type": "code",
   "execution_count": null,
   "id": "2dfa1180-92d7-4638-b504-848e9c1168e7",
   "metadata": {},
   "outputs": [],
   "source": []
  }
 ],
 "metadata": {
  "kernelspec": {
   "display_name": "Python 3 (ipykernel)",
   "language": "python",
   "name": "python3"
  },
  "language_info": {
   "codemirror_mode": {
    "name": "ipython",
    "version": 3
   },
   "file_extension": ".py",
   "mimetype": "text/x-python",
   "name": "python",
   "nbconvert_exporter": "python",
   "pygments_lexer": "ipython3",
   "version": "3.10.8"
  }
 },
 "nbformat": 4,
 "nbformat_minor": 5
}
